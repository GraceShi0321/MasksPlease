{
 "cells": [
  {
   "cell_type": "code",
   "execution_count": 1,
   "id": "390c60fa",
   "metadata": {},
   "outputs": [
    {
     "name": "stdout",
     "output_type": "stream",
     "text": [
      "{'without_mask': 0, 'with_mask': 1}\n",
      "['without_mask', 'with_mask']\n",
      "[0, 1]\n"
     ]
    }
   ],
   "source": [
    "import cv2,os\n",
    "\n",
    "data_path='dataset'\n",
    "categories=os.listdir(data_path)\n",
    "labels=[i for i in range(len(categories))]\n",
    "\n",
    "label_dict=dict(zip(categories,labels)) #empty dictionary\n",
    "\n",
    "print(label_dict)\n",
    "print(categories)\n",
    "print(labels)"
   ]
  },
  {
   "cell_type": "code",
   "execution_count": 2,
   "id": "8211c23b",
   "metadata": {},
   "outputs": [],
   "source": [
    "img_size=100\n",
    "data=[]\n",
    "target=[]\n",
    "\n",
    "\n",
    "for category in categories:\n",
    "    folder_path=os.path.join(data_path,category)\n",
    "    img_names=os.listdir(folder_path)\n",
    "        \n",
    "    for img_name in img_names:\n",
    "        img_path=os.path.join(folder_path,img_name)\n",
    "        img=cv2.imread(img_path)\n",
    "\n",
    "        try:\n",
    "            gray=cv2.cvtColor(img,cv2.COLOR_BGR2GRAY)           \n",
    "            #Coverting the image into gray scale\n",
    "            resized=cv2.resize(gray,(img_size,img_size))\n",
    "            #resizing the gray scale into 50x50, since we need a fixed common size for all the images in the dataset\n",
    "            data.append(resized)\n",
    "            target.append(label_dict[category])\n",
    "            #appending the image and the label(categorized) into the list (dataset)\n",
    "\n",
    "        except Exception as e:\n",
    "            print('Exception:',e)\n",
    "            #if any exception rasied, the exception will be printed here."
   ]
  },
  {
   "cell_type": "code",
   "execution_count": 3,
   "id": "5bca84c1",
   "metadata": {},
   "outputs": [],
   "source": [
    "import numpy as np\n",
    "\n",
    "data=np.array(data)/255.0\n",
    "data=np.reshape(data,(data.shape[0],img_size,img_size,1))\n",
    "target=np.array(target)\n",
    "\n",
    "from keras.utils import np_utils\n",
    "\n",
    "new_target=np_utils.to_categorical(target)"
   ]
  },
  {
   "cell_type": "code",
   "execution_count": 10,
   "id": "00884684",
   "metadata": {},
   "outputs": [],
   "source": [
    "np.save('data',data)\n",
    "np.save('target',new_target)"
   ]
  },
  {
   "cell_type": "code",
   "execution_count": 11,
   "id": "aa201a62",
   "metadata": {},
   "outputs": [],
   "source": [
    "import numpy as np\n",
    "\n",
    "data=np.load('data.npy')\n",
    "target=np.load('target.npy')\n",
    "\n",
    "#loading the save numpy arrays in the previous code"
   ]
  },
  {
   "cell_type": "code",
   "execution_count": 4,
   "id": "5031646b",
   "metadata": {},
   "outputs": [],
   "source": [
    "from sklearn.model_selection import train_test_split\n",
    "\n",
    "train_data,test_data,train_target,test_target=train_test_split(data,target,test_size=0.1)"
   ]
  },
  {
   "cell_type": "code",
   "execution_count": 5,
   "id": "b8642a18",
   "metadata": {},
   "outputs": [
    {
     "data": {
      "text/plain": [
       "(100, 100, 1)"
      ]
     },
     "execution_count": 5,
     "metadata": {},
     "output_type": "execute_result"
    }
   ],
   "source": [
    "data.shape[1:]"
   ]
  },
  {
   "cell_type": "markdown",
   "id": "947accb0",
   "metadata": {},
   "source": [
    "<h1>§2. Machine Learning Model</h1>"
   ]
  },
  {
   "cell_type": "markdown",
   "id": "9074f489",
   "metadata": {},
   "source": [
    "We will create a tf.keras.Sequential model using some of the layers we’ve discussed in class. We will include Conv2D layers, MaxPooling2D layers, Flatten layer, Dense layers, and Dropout layer in this model"
   ]
  },
  {
   "cell_type": "code",
   "execution_count": 6,
   "id": "222f5a5b",
   "metadata": {},
   "outputs": [],
   "source": [
    "import tensorflow as tf\n",
    "from tensorflow.keras import layers, models\n",
    "\n",
    "model = models.Sequential([\n",
    "    # The first CNN layer, learn the base features, Convolution layer of a kernel size 200, \n",
    "    # shape 3*3 'relu' nonlinear transformation, also specify input shape\n",
    "    layers.Conv2D(200,(3,3), activation='relu', input_shape=data.shape[1:]),\n",
    "    # MaxPooling2D((2, 2)) 2*2 the size of window to find the max\n",
    "    layers.MaxPooling2D((2, 2)),\n",
    "    # layers.Dropout(0.5) force the model to not fit too closely, help relieve overfitting\n",
    "    layers.Dropout(0.5),\n",
    "    # The second convolution layer\n",
    "    layers.Conv2D(100, (3, 3), activation='relu'),\n",
    "    # MaxPooling layer\n",
    "    layers.MaxPooling2D((2, 2)),\n",
    "    # Flatten layer to stack the output convolutions from second convolution layer\n",
    "    layers.Flatten(),\n",
    "    # layers.Dropout(0.5) force the model to not fit too closely, help relieve overfitting\n",
    "    layers.Dropout(0.5),\n",
    "    #Dense layer of 50 neurons\n",
    "    layers.Dense(50, activation='relu'),\n",
    "    layers.Dense(2,activation='softmax') # 2: number of classes\n",
    "])\n"
   ]
  },
  {
   "cell_type": "code",
   "execution_count": 7,
   "id": "a24c1ff8",
   "metadata": {},
   "outputs": [
    {
     "name": "stdout",
     "output_type": "stream",
     "text": [
      "Model: \"sequential\"\n",
      "_________________________________________________________________\n",
      "Layer (type)                 Output Shape              Param #   \n",
      "=================================================================\n",
      "conv2d (Conv2D)              (None, 98, 98, 200)       2000      \n",
      "_________________________________________________________________\n",
      "max_pooling2d (MaxPooling2D) (None, 49, 49, 200)       0         \n",
      "_________________________________________________________________\n",
      "dropout (Dropout)            (None, 49, 49, 200)       0         \n",
      "_________________________________________________________________\n",
      "conv2d_1 (Conv2D)            (None, 47, 47, 100)       180100    \n",
      "_________________________________________________________________\n",
      "max_pooling2d_1 (MaxPooling2 (None, 23, 23, 100)       0         \n",
      "_________________________________________________________________\n",
      "flatten (Flatten)            (None, 52900)             0         \n",
      "_________________________________________________________________\n",
      "dropout_1 (Dropout)          (None, 52900)             0         \n",
      "_________________________________________________________________\n",
      "dense (Dense)                (None, 50)                2645050   \n",
      "_________________________________________________________________\n",
      "dense_1 (Dense)              (None, 2)                 102       \n",
      "=================================================================\n",
      "Total params: 2,827,252\n",
      "Trainable params: 2,827,252\n",
      "Non-trainable params: 0\n",
      "_________________________________________________________________\n"
     ]
    }
   ],
   "source": [
    "model.summary()"
   ]
  },
  {
   "cell_type": "markdown",
   "id": "978366ee",
   "metadata": {},
   "source": [
    "Now we will train model and plot the history of the accuracy on both the training and validation sets. "
   ]
  },
  {
   "cell_type": "code",
   "execution_count": 8,
   "id": "387a0a1d",
   "metadata": {},
   "outputs": [
    {
     "name": "stdout",
     "output_type": "stream",
     "text": [
      "Epoch 1/20\n",
      "32/32 [==============================] - 35s 1s/step - loss: 0.9982 - accuracy: 0.4723 - val_loss: 0.6914 - val_accuracy: 0.4739\n",
      "Epoch 2/20\n",
      "32/32 [==============================] - 32s 1s/step - loss: 0.6887 - accuracy: 0.5336 - val_loss: 0.6372 - val_accuracy: 0.6466\n",
      "Epoch 3/20\n",
      "32/32 [==============================] - 38s 1s/step - loss: 0.5997 - accuracy: 0.6615 - val_loss: 0.5419 - val_accuracy: 0.7028\n",
      "Epoch 4/20\n",
      "32/32 [==============================] - 41s 1s/step - loss: 0.4221 - accuracy: 0.8058 - val_loss: 0.2144 - val_accuracy: 0.9438\n",
      "Epoch 5/20\n",
      "32/32 [==============================] - 42s 1s/step - loss: 0.3531 - accuracy: 0.8542 - val_loss: 0.2210 - val_accuracy: 0.9398\n",
      "Epoch 6/20\n",
      "32/32 [==============================] - 42s 1s/step - loss: 0.2609 - accuracy: 0.9060 - val_loss: 0.1793 - val_accuracy: 0.9679\n",
      "Epoch 7/20\n",
      "32/32 [==============================] - 44s 1s/step - loss: 0.2150 - accuracy: 0.9113 - val_loss: 0.1661 - val_accuracy: 0.9558\n",
      "Epoch 8/20\n",
      "32/32 [==============================] - 55s 2s/step - loss: 0.1854 - accuracy: 0.9397 - val_loss: 0.2910 - val_accuracy: 0.8755\n",
      "Epoch 9/20\n",
      "32/32 [==============================] - 72s 2s/step - loss: 0.3460 - accuracy: 0.8567 - val_loss: 0.1367 - val_accuracy: 0.9558\n",
      "Epoch 10/20\n",
      "32/32 [==============================] - 71s 2s/step - loss: 0.1735 - accuracy: 0.9289 - val_loss: 0.0986 - val_accuracy: 0.9679\n",
      "Epoch 11/20\n",
      "32/32 [==============================] - 70s 2s/step - loss: 0.1467 - accuracy: 0.9428 - val_loss: 0.0907 - val_accuracy: 0.9639\n",
      "Epoch 12/20\n",
      "32/32 [==============================] - 65s 2s/step - loss: 0.1075 - accuracy: 0.9685 - val_loss: 0.1281 - val_accuracy: 0.9558\n",
      "Epoch 13/20\n",
      "32/32 [==============================] - 79s 2s/step - loss: 0.1670 - accuracy: 0.9304 - val_loss: 0.7491 - val_accuracy: 0.6305\n",
      "Epoch 14/20\n",
      "32/32 [==============================] - 66s 2s/step - loss: 0.3524 - accuracy: 0.8354 - val_loss: 0.1572 - val_accuracy: 0.9679\n",
      "Epoch 15/20\n",
      "32/32 [==============================] - 77s 2s/step - loss: 0.1308 - accuracy: 0.9519 - val_loss: 0.1102 - val_accuracy: 0.9719\n",
      "Epoch 16/20\n",
      "32/32 [==============================] - 69s 2s/step - loss: 0.0992 - accuracy: 0.9660 - val_loss: 0.0958 - val_accuracy: 0.9719\n",
      "Epoch 17/20\n",
      "32/32 [==============================] - 67s 2s/step - loss: 0.1081 - accuracy: 0.9598 - val_loss: 0.0713 - val_accuracy: 0.9759\n",
      "Epoch 18/20\n",
      "32/32 [==============================] - 72s 2s/step - loss: 0.0737 - accuracy: 0.9689 - val_loss: 0.0859 - val_accuracy: 0.9679\n",
      "Epoch 19/20\n",
      "32/32 [==============================] - 76s 2s/step - loss: 0.0951 - accuracy: 0.9638 - val_loss: 0.0699 - val_accuracy: 0.9759\n",
      "Epoch 20/20\n",
      "32/32 [==============================] - 75s 2s/step - loss: 0.0629 - accuracy: 0.9830 - val_loss: 0.0781 - val_accuracy: 0.9679\n"
     ]
    }
   ],
   "source": [
    "model.compile(optimizer='adam',\n",
    "              loss=tf.keras.losses.SparseCategoricalCrossentropy(from_logits=True),\n",
    "              metrics=['accuracy'])\n",
    "# from_logits=True compute softmax when evaluting loss function\n",
    "# metrics=['accuracy'] want to see how accurate on the data\n",
    "history = model.fit(train_data,\n",
    "                     train_target, \n",
    "                     epochs=20, \n",
    "                     validation_split=0.2)"
   ]
  },
  {
   "cell_type": "markdown",
   "id": "566cc580",
   "metadata": {},
   "source": [
    "We want to visualize the training history."
   ]
  },
  {
   "cell_type": "code",
   "execution_count": 9,
   "id": "7f50936b",
   "metadata": {},
   "outputs": [
    {
     "data": {
      "text/plain": [
       "<matplotlib.legend.Legend at 0x257664be520>"
      ]
     },
     "execution_count": 9,
     "metadata": {},
     "output_type": "execute_result"
    },
    {
     "data": {
      "image/png": "[encoded data removed]",
      "text/plain": [
       "<Figure size 432x288 with 1 Axes>"
      ]
     },
     "metadata": {
      "needs_background": "light"
     },
     "output_type": "display_data"
    }
   ],
   "source": [
    "import matplotlib.pyplot as plt\n",
    "plt.plot(history.history[\"accuracy\"], label = \"training\")\n",
    "plt.plot(history.history[\"val_accuracy\"], label = \"validation\")\n",
    "plt.gca().set(xlabel = \"epoch\", ylabel = \"accuracy\") # gca: get current axis \n",
    "plt.legend()"
   ]
  },
  {
   "cell_type": "markdown",
   "id": "843ccb29",
   "metadata": {},
   "source": [
    "Now we would want to evaluate the accuracy of the model on the test dataset"
   ]
  },
  {
   "cell_type": "code",
   "execution_count": 19,
   "id": "9dde75b6",
   "metadata": {},
   "outputs": [
    {
     "name": "stdout",
     "output_type": "stream",
     "text": [
      "5/5 [==============================] - 1s 197ms/step - loss: 0.1824 - accuracy: 0.9420\n",
      "[0.18243618309497833, 0.9420289993286133]\n"
     ]
    }
   ],
   "source": [
    "print(model.evaluate(test_data,test_target))"
   ]
  },
  {
   "cell_type": "code",
   "execution_count": 15,
   "id": "051c951b",
   "metadata": {},
   "outputs": [
    {
     "name": "stdout",
     "output_type": "stream",
     "text": [
      "INFO:tensorflow:Assets written to: mask.model\\assets\n"
     ]
    }
   ],
   "source": [
    "model.save('mask.model',overwrite=True,include_optimizer=True,save_format=None,signatures=None,options=None)"
   ]
  },
  {
   "cell_type": "code",
   "execution_count": 17,
   "id": "71029e83",
   "metadata": {},
   "outputs": [],
   "source": [
    "model = models.load_model('mask.model')"
   ]
  }
 ],
 "metadata": {
  "kernelspec": {
   "display_name": "Python 3 (ipykernel)",
   "language": "python",
   "name": "python3"
  },
  "language_info": {
   "codemirror_mode": {
    "name": "ipython",
    "version": 3
   },
   "file_extension": ".py",
   "mimetype": "text/x-python",
   "name": "python",
   "nbconvert_exporter": "python",
   "pygments_lexer": "ipython3",
   "version": "3.8.11"
  }
 },
 "nbformat": 4,
 "nbformat_minor": 5
}
