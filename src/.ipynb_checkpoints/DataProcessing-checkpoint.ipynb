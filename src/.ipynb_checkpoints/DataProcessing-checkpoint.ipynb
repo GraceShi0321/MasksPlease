{
 "cells": [
  {
   "cell_type": "code",
   "execution_count": 1,
   "id": "390c60fa",
   "metadata": {},
   "outputs": [
    {
     "name": "stdout",
     "output_type": "stream",
     "text": [
      "{'without_mask': 0, 'with_mask': 1}\n",
      "['without_mask', 'with_mask']\n",
      "[0, 1]\n"
     ]
    }
   ],
   "source": [
    "# Create an empty dictionary to store data\n",
    "import cv2,os\n",
    "\n",
    "data_path='dataset'\n",
    "\n",
    "# labels: without_mask, with_mask\n",
    "categories=os.listdir(data_path)\n",
    "labels=[i for i in range(len(categories))]\n",
    "\n",
    "# Create an empty dictionary with keys = labels\n",
    "label_dict=dict(zip(categories,labels)) \n",
    "\n",
    "print(label_dict)\n",
    "print(categories)\n",
    "print(labels)"
   ]
  },
  {
   "cell_type": "code",
   "execution_count": 2,
   "id": "8211c23b",
   "metadata": {},
   "outputs": [],
   "source": [
    "# Loop through the datasets, preprocess each image, \n",
    "# and append the preprocessed image to the empty dictionary created above\n",
    "img_size=100\n",
    "data=[]\n",
    "target=[]\n",
    "\n",
    "\n",
    "for category in categories:\n",
    "    # Construct path to each folder ('without_mask', 'with_mask')\n",
    "    folder_path=os.path.join(data_path,category)\n",
    "    img_names=os.listdir(folder_path)\n",
    "    \n",
    "    # Loop through images in each folder\n",
    "    for img_name in img_names:\n",
    "        img_path=os.path.join(folder_path,img_name)\n",
    "        img=cv2.imread(img_path)\n",
    "\n",
    "        try:\n",
    "            # Coverting the image into gray scale\n",
    "            gray=cv2.cvtColor(img,cv2.COLOR_BGR2GRAY)           \n",
    "            # Resizing the gray scale into 50x50, since we need a fixed common size for all the images in the dataset\n",
    "            resized=cv2.resize(gray,(img_size,img_size))\n",
    "            #appending the image and the label(categorized) into the list (dataset)\n",
    "            data.append(resized)\n",
    "            target.append(label_dict[category])\n",
    "            \n",
    "        except Exception as e:\n",
    "            print('Exception:',e)\n",
    "            #if any exception rasied, the exception will be printed here."
   ]
  },
  {
   "cell_type": "code",
   "execution_count": 3,
   "id": "5bca84c1",
   "metadata": {},
   "outputs": [],
   "source": [
    "import numpy as np\n",
    "# Convert RGB values to 0-1 scale\n",
    "data=np.array(data)/255.0\n",
    "# reshape data into a 4D array\n",
    "data=np.reshape(data,(data.shape[0],img_size,img_size,1))\n",
    "target=np.array(target)\n",
    "\n",
    "from keras.utils import np_utils\n",
    "\n",
    "# Covert integer vector to binary class matrix\n",
    "new_target=np_utils.to_categorical(target)"
   ]
  },
  {
   "cell_type": "code",
   "execution_count": 10,
   "id": "00884684",
   "metadata": {},
   "outputs": [],
   "source": [
    "# Saving data\n",
    "np.save('data',data)\n",
    "np.save('target',new_target)"
   ]
  }
 ],
 "metadata": {
  "kernelspec": {
   "display_name": "Python 3 (ipykernel)",
   "language": "python",
   "name": "python3"
  },
  "language_info": {
   "codemirror_mode": {
    "name": "ipython",
    "version": 3
   },
   "file_extension": ".py",
   "mimetype": "text/x-python",
   "name": "python",
   "nbconvert_exporter": "python",
   "pygments_lexer": "ipython3",
   "version": "3.7.11"
  }
 },
 "nbformat": 4,
 "nbformat_minor": 5
}
