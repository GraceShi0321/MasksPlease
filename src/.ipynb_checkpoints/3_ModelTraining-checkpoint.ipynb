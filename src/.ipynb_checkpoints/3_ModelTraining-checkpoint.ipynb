{
 "cells": [
  {
   "cell_type": "code",
   "execution_count": null,
   "metadata": {},
   "outputs": [],
   "source": [
    "# First we need to read in the required packages\n",
    "import numpy as np\n",
    "from sklearn.model_selection import train_test_split\n",
    "import tensorflow as tf\n",
    "from tensorflow.keras import layers, models"
   ]
  },
  {
   "cell_type": "markdown",
   "id": "947accb0",
   "metadata": {},
   "source": [
    "<h1>§3. Machine Learning Model</h1>"
   ]
  },
  {
   "cell_type": "code",
   "execution_count": null,
   "metadata": {},
   "outputs": [],
   "source": [
    "# loading the saved numpy arrays in the previous code\n",
    "data=np.load('data.npy')\n",
    "target=np.load('target.npy')"
   ]
  },
  {
   "cell_type": "code",
   "execution_count": null,
   "metadata": {},
   "outputs": [],
   "source": [
    "# Split data into training & testing sets\n",
    "train_data,test_data,train_target,test_target=train_test_split(data,target,test_size=0.1)"
   ]
  },
  {
   "cell_type": "markdown",
   "id": "9074f489",
   "metadata": {},
   "source": [
    "We will create a tf.keras.Sequential model using some of the layers we’ve discussed in class. We will include Conv2D layers, MaxPooling2D layers, Flatten layer, Dense layers, and Dropout layer in this model"
   ]
  },
  {
   "cell_type": "code",
   "execution_count": 42,
   "metadata": {},
   "outputs": [],
   "source": [
    "\"\"\"\n",
    "In our model we include two convolutional 2D layers, two\n",
    "max pooling layers, two dropout layers to avoid overfitting, \n",
    "a flatten layer, and finally two dense layers to match\n",
    "the number of classes in the output\n",
    "\"\"\"\n",
    "model = models.Sequential([\n",
    "    # The first CNN layer is a Convolution layer of a kernel size 3*3\n",
    "    # It learns the base features and applies'relu' nonlinear transformation.\n",
    "    # Also specifying the input shape here to be 100\n",
    "    layers.Conv2D(100,(3,3), activation='relu', input_shape=data.shape[1:]),\n",
    "    # MaxPooling2D((2, 2)) 2*2 the size of window to find the max\n",
    "    layers.MaxPooling2D((2, 2)),\n",
    "    # layers.Dropout(0.5) force the model to not fit too closely, help relieve overfitting\n",
    "    layers.Dropout(0.5),\n",
    "    # The second convolution layer\n",
    "    layers.Conv2D(100,(3,3), activation='relu'),\n",
    "    # MaxPooling layer\n",
    "    layers.MaxPooling2D((2, 2)),\n",
    "    # Flatten layer to stack the output convolutions from second convolution layer\n",
    "    layers.Flatten(),\n",
    "    # layers.Dropout(0.5) force the model to not fit too closely, help relieve overfitting\n",
    "    layers.Dropout(0.5),\n",
    "    # Dense layer of 25 neurons\n",
    "    layers.Dense(25, activation='relu'),\n",
    "    layers.Dense(2,activation='softmax')\n",
    "])"
   ]
  },
  {
   "cell_type": "code",
   "execution_count": 43,
   "metadata": {},
   "outputs": [
    {
     "name": "stdout",
     "output_type": "stream",
     "text": [
      "Model: \"sequential_6\"\n",
      "_________________________________________________________________\n",
      "Layer (type)                 Output Shape              Param #   \n",
      "=================================================================\n",
      "conv2d_12 (Conv2D)           (None, 98, 98, 100)       1000      \n",
      "_________________________________________________________________\n",
      "max_pooling2d_12 (MaxPooling (None, 49, 49, 100)       0         \n",
      "_________________________________________________________________\n",
      "dropout_12 (Dropout)         (None, 49, 49, 100)       0         \n",
      "_________________________________________________________________\n",
      "conv2d_13 (Conv2D)           (None, 47, 47, 100)       90100     \n",
      "_________________________________________________________________\n",
      "max_pooling2d_13 (MaxPooling (None, 23, 23, 100)       0         \n",
      "_________________________________________________________________\n",
      "flatten_6 (Flatten)          (None, 52900)             0         \n",
      "_________________________________________________________________\n",
      "dropout_13 (Dropout)         (None, 52900)             0         \n",
      "_________________________________________________________________\n",
      "dense_12 (Dense)             (None, 25)                1322525   \n",
      "_________________________________________________________________\n",
      "dense_13 (Dense)             (None, 2)                 52        \n",
      "=================================================================\n",
      "Total params: 1,413,677\n",
      "Trainable params: 1,413,677\n",
      "Non-trainable params: 0\n",
      "_________________________________________________________________\n"
     ]
    }
   ],
   "source": [
    "model.summary()"
   ]
  },
  {
   "cell_type": "markdown",
   "id": "978366ee",
   "metadata": {},
   "source": [
    "Now we will train model and plot the history of the accuracy on both the training and validation sets. "
   ]
  },
  {
   "cell_type": "code",
   "execution_count": 44,
   "metadata": {},
   "outputs": [
    {
     "name": "stdout",
     "output_type": "stream",
     "text": [
      "Epoch 1/20\n",
      "22/22 [==============================] - 15s 647ms/step - loss: 1.2277 - accuracy: 0.4469 - val_loss: 0.6922 - val_accuracy: 0.5673\n",
      "Epoch 2/20\n",
      "22/22 [==============================] - 14s 657ms/step - loss: 0.6874 - accuracy: 0.5609 - val_loss: 0.6771 - val_accuracy: 0.5673\n",
      "Epoch 3/20\n",
      "22/22 [==============================] - 15s 660ms/step - loss: 0.6667 - accuracy: 0.6006 - val_loss: 0.6745 - val_accuracy: 0.5673\n",
      "Epoch 4/20\n",
      "22/22 [==============================] - 16s 742ms/step - loss: 0.6732 - accuracy: 0.5600 - val_loss: 0.6694 - val_accuracy: 0.5673\n",
      "Epoch 5/20\n",
      "22/22 [==============================] - 14s 659ms/step - loss: 0.6523 - accuracy: 0.5920 - val_loss: 0.6464 - val_accuracy: 0.5614\n",
      "Epoch 6/20\n",
      "22/22 [==============================] - 15s 669ms/step - loss: 0.6216 - accuracy: 0.6005 - val_loss: 0.6189 - val_accuracy: 0.5556\n",
      "Epoch 7/20\n",
      "22/22 [==============================] - 15s 667ms/step - loss: 0.5938 - accuracy: 0.6378 - val_loss: 0.5367 - val_accuracy: 0.7427\n",
      "Epoch 8/20\n",
      "22/22 [==============================] - 18s 829ms/step - loss: 0.5623 - accuracy: 0.7113 - val_loss: 0.5526 - val_accuracy: 0.6725\n",
      "Epoch 9/20\n",
      "22/22 [==============================] - 18s 836ms/step - loss: 0.5009 - accuracy: 0.7622 - val_loss: 0.4906 - val_accuracy: 0.7778\n",
      "Epoch 10/20\n",
      "22/22 [==============================] - 19s 857ms/step - loss: 0.4795 - accuracy: 0.7449 - val_loss: 0.4266 - val_accuracy: 0.8129\n",
      "Epoch 11/20\n",
      "22/22 [==============================] - 19s 866ms/step - loss: 0.4592 - accuracy: 0.7628 - val_loss: 0.3830 - val_accuracy: 0.8363\n",
      "Epoch 12/20\n",
      "22/22 [==============================] - 19s 841ms/step - loss: 0.3720 - accuracy: 0.8205 - val_loss: 0.3489 - val_accuracy: 0.8246\n",
      "Epoch 13/20\n",
      "22/22 [==============================] - 19s 850ms/step - loss: 0.3352 - accuracy: 0.8583 - val_loss: 0.3735 - val_accuracy: 0.8129\n",
      "Epoch 14/20\n",
      "22/22 [==============================] - 19s 849ms/step - loss: 0.3314 - accuracy: 0.8493 - val_loss: 0.2926 - val_accuracy: 0.8655\n",
      "Epoch 15/20\n",
      "22/22 [==============================] - 21s 939ms/step - loss: 0.2852 - accuracy: 0.8740 - val_loss: 0.2964 - val_accuracy: 0.8538\n",
      "Epoch 16/20\n",
      "22/22 [==============================] - 21s 945ms/step - loss: 0.2758 - accuracy: 0.8954 - val_loss: 0.3199 - val_accuracy: 0.8363\n",
      "Epoch 17/20\n",
      "22/22 [==============================] - 19s 878ms/step - loss: 0.2588 - accuracy: 0.9010 - val_loss: 0.2731 - val_accuracy: 0.8830\n",
      "Epoch 18/20\n",
      "22/22 [==============================] - 19s 879ms/step - loss: 0.2269 - accuracy: 0.9158 - val_loss: 0.2750 - val_accuracy: 0.8772\n",
      "Epoch 19/20\n",
      "22/22 [==============================] - 19s 873ms/step - loss: 0.2380 - accuracy: 0.8959 - val_loss: 0.2714 - val_accuracy: 0.8538\n",
      "Epoch 20/20\n",
      "22/22 [==============================] - 20s 931ms/step - loss: 0.2274 - accuracy: 0.9006 - val_loss: 0.2509 - val_accuracy: 0.8655\n"
     ]
    }
   ],
   "source": [
    "# compile the model\n",
    "model.compile(optimizer='adam',\n",
    "              loss=tf.keras.losses.SparseCategoricalCrossentropy(from_logits=True),\n",
    "              metrics=['accuracy'])\n",
    "# from_logits=True compute softmax when evaluting loss function\n",
    "# metrics=['accuracy'] want to see how accurate on the data\n",
    "\n",
    "# fit the model on 80% of the training set, evaluate on the rest\n",
    "history = model.fit(train_data,\n",
    "                     train_target, \n",
    "                     epochs=20,\n",
    "                     validation_split=0.2)"
   ]
  },
  {
   "cell_type": "markdown",
   "id": "566cc580",
   "metadata": {},
   "source": [
    "We want to visualize the training history."
   ]
  },
  {
   "cell_type": "code",
   "execution_count": 45,
   "metadata": {},
   "outputs": [
    {
     "data": {
      "text/plain": [
       "<matplotlib.legend.Legend at 0x1e486b84580>"
      ]
     },
     "execution_count": 45,
     "metadata": {},
     "output_type": "execute_result"
    },
    {
     "data": {
      "image/png": "[encoded data removed]",
      "text/plain": [
       "<Figure size 432x288 with 1 Axes>"
      ]
     },
     "metadata": {
      "needs_background": "light"
     },
     "output_type": "display_data"
    }
   ],
   "source": [
    "\"\"\"\n",
    "Our results proved to be pretty precise and there\n",
    "is no apparent sign of overfitting.\n",
    "\"\"\"\n",
    "plt.plot(history.history[\"accuracy\"], label = \"training\")\n",
    "plt.plot(history.history[\"val_accuracy\"], label = \"validation\")\n",
    "plt.gca().set(xlabel = \"epoch\", ylabel = \"accuracy\") # gca: get current axis \n",
    "plt.legend()"
   ]
  },
  {
   "cell_type": "markdown",
   "id": "843ccb29",
   "metadata": {},
   "source": [
    "Now we would want to evaluate the accuracy of the model on the test dataset"
   ]
  },
  {
   "cell_type": "code",
   "execution_count": 46,
   "metadata": {},
   "outputs": [
    {
     "name": "stdout",
     "output_type": "stream",
     "text": [
      "3/3 [==============================] - 0s 131ms/step - loss: 0.1903 - accuracy: 0.9053\n",
      "[0.19030113518238068, 0.9052631855010986]\n"
     ]
    }
   ],
   "source": [
    "print(model.evaluate(test_data,test_target))"
   ]
  }
 ],
 "metadata": {
  "kernelspec": {
   "display_name": "Python 3 (ipykernel)",
   "language": "python",
   "name": "python3"
  },
  "language_info": {
   "codemirror_mode": {
    "name": "ipython",
    "version": 3
   },
   "file_extension": ".py",
   "mimetype": "text/x-python",
   "name": "python",
   "nbconvert_exporter": "python",
   "pygments_lexer": "ipython3",
   "version": "3.8.11"
  }
 },
 "nbformat": 4,
 "nbformat_minor": 4
}
