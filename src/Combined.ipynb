{
 "cells": [
  {
   "cell_type": "code",
   "execution_count": 20,
   "metadata": {},
   "outputs": [],
   "source": [
    "# First we need to read in the required packages\n",
    "import cv2,os\n",
    "import numpy as np\n",
    "from keras.utils import np_utils\n",
    "from sklearn.model_selection import train_test_split\n",
    "import tensorflow as tf\n",
    "from tensorflow.keras import layers, models\n",
    "import matplotlib.pyplot as plt"
   ]
  },
  {
   "cell_type": "code",
   "execution_count": 30,
   "metadata": {},
   "outputs": [
    {
     "name": "stdout",
     "output_type": "stream",
     "text": [
      "{'with_mask': 0, 'without_mask': 1}\n",
      "['with_mask', 'without_mask']\n",
      "[0, 1]\n"
     ]
    }
   ],
   "source": [
    "data_path='/Users/yuchenzhang/Desktop/2021-2022/FALL/PIC16B/MasksPlease/MasksPlease/dataset2'\n",
    "categories=os.listdir(data_path)\n",
    "labels=[i for i in range(0, len(categories))]\n",
    "\n",
    "label_dict=dict(zip(categories,labels)) #empty dictionary\n",
    "\n",
    "print(label_dict)\n",
    "print(categories)\n",
    "print(labels)"
   ]
  },
  {
   "cell_type": "code",
   "execution_count": 31,
   "metadata": {},
   "outputs": [],
   "source": [
    "img_size=100\n",
    "data=[]\n",
    "target=[]\n",
    "\n",
    "\n",
    "for category in categories:\n",
    "    folder_path=os.path.join(data_path,category)\n",
    "    img_names=os.listdir(folder_path)\n",
    "        \n",
    "    for img_name in img_names:\n",
    "        img_path=os.path.join(folder_path,img_name)\n",
    "        img=cv2.imread(img_path)\n",
    "\n",
    "        try:\n",
    "            gray=cv2.cvtColor(img,cv2.COLOR_BGR2GRAY)           \n",
    "            #Coverting the image into gray scale\n",
    "            resized=cv2.resize(gray,(img_size,img_size))\n",
    "            #resizing the gray scale into 50x50, since we need a fixed common size for all the images in the dataset\n",
    "            data.append(resized)\n",
    "            target.append(label_dict[category])\n",
    "            #appending the image and the label(categorized) into the list (dataset)\n",
    "\n",
    "        except Exception as e:\n",
    "            print('Exception:',e)\n",
    "            #if any exception rasied, the exception will be printed here."
   ]
  },
  {
   "cell_type": "code",
   "execution_count": 33,
   "metadata": {},
   "outputs": [
    {
     "data": {
      "text/plain": [
       "854"
      ]
     },
     "execution_count": 33,
     "metadata": {},
     "output_type": "execute_result"
    }
   ],
   "source": [
    "len(train_data)"
   ]
  },
  {
   "cell_type": "code",
   "execution_count": 32,
   "metadata": {},
   "outputs": [],
   "source": [
    "\"\"\"\n",
    "In this part we transform the numeric value to between 0 and 1\n",
    "to speed up the training process, and reshape the image\n",
    "to a smaller size\n",
    "\"\"\"\n",
    "data=np.array(data)/255.0\n",
    "data=np.reshape(data,(data.shape[0],img_size,img_size,1))\n",
    "target=np.array(target)\n",
    "\n",
    "new_target=np_utils.to_categorical(target)\n",
    "train_data,test_data,train_target,test_target=train_test_split(data,target,test_size=0.1)"
   ]
  },
  {
   "cell_type": "code",
   "execution_count": 35,
   "metadata": {},
   "outputs": [
    {
     "name": "stdout",
     "output_type": "stream",
     "text": [
      "Epoch 1/20\n",
      "22/22 [==============================] - 9s 371ms/step - loss: 0.8326 - accuracy: 0.5490 - val_loss: 0.6933 - val_accuracy: 0.4094\n",
      "Epoch 2/20\n",
      "22/22 [==============================] - 8s 379ms/step - loss: 0.6883 - accuracy: 0.5666 - val_loss: 0.6685 - val_accuracy: 0.5906\n",
      "Epoch 3/20\n",
      "22/22 [==============================] - 8s 379ms/step - loss: 0.6715 - accuracy: 0.5739 - val_loss: 0.6482 - val_accuracy: 0.5848\n",
      "Epoch 4/20\n",
      "22/22 [==============================] - 8s 361ms/step - loss: 0.6458 - accuracy: 0.6018 - val_loss: 0.6140 - val_accuracy: 0.6140\n",
      "Epoch 5/20\n",
      "22/22 [==============================] - 8s 365ms/step - loss: 0.5962 - accuracy: 0.6735 - val_loss: 0.5468 - val_accuracy: 0.7018\n",
      "Epoch 6/20\n",
      "22/22 [==============================] - 8s 368ms/step - loss: 0.5082 - accuracy: 0.7628 - val_loss: 0.4391 - val_accuracy: 0.8187\n",
      "Epoch 7/20\n",
      "22/22 [==============================] - 8s 364ms/step - loss: 0.4528 - accuracy: 0.7804 - val_loss: 0.4115 - val_accuracy: 0.8596\n",
      "Epoch 8/20\n",
      "22/22 [==============================] - 8s 366ms/step - loss: 0.3998 - accuracy: 0.8287 - val_loss: 0.3815 - val_accuracy: 0.8772\n",
      "Epoch 9/20\n",
      "22/22 [==============================] - 8s 370ms/step - loss: 0.3457 - accuracy: 0.8609 - val_loss: 0.2769 - val_accuracy: 0.8830\n",
      "Epoch 10/20\n",
      "22/22 [==============================] - 8s 379ms/step - loss: 0.2990 - accuracy: 0.8770 - val_loss: 0.2656 - val_accuracy: 0.9123\n",
      "Epoch 11/20\n",
      "22/22 [==============================] - 8s 372ms/step - loss: 0.2768 - accuracy: 0.8931 - val_loss: 0.2346 - val_accuracy: 0.9123\n",
      "Epoch 12/20\n",
      "22/22 [==============================] - 8s 377ms/step - loss: 0.2450 - accuracy: 0.8975 - val_loss: 0.2141 - val_accuracy: 0.9123\n",
      "Epoch 13/20\n",
      "22/22 [==============================] - 8s 369ms/step - loss: 0.2342 - accuracy: 0.9019 - val_loss: 0.2158 - val_accuracy: 0.9181\n",
      "Epoch 14/20\n",
      "22/22 [==============================] - 8s 375ms/step - loss: 0.2232 - accuracy: 0.9063 - val_loss: 0.2614 - val_accuracy: 0.9064\n",
      "Epoch 15/20\n",
      "22/22 [==============================] - 8s 367ms/step - loss: 0.2127 - accuracy: 0.9048 - val_loss: 0.1997 - val_accuracy: 0.9064\n",
      "Epoch 16/20\n",
      "22/22 [==============================] - 8s 368ms/step - loss: 0.2059 - accuracy: 0.9122 - val_loss: 0.2199 - val_accuracy: 0.9181\n",
      "Epoch 17/20\n",
      "22/22 [==============================] - 8s 372ms/step - loss: 0.2197 - accuracy: 0.9122 - val_loss: 0.1890 - val_accuracy: 0.9181\n",
      "Epoch 18/20\n",
      "22/22 [==============================] - 8s 370ms/step - loss: 0.1797 - accuracy: 0.9239 - val_loss: 0.1875 - val_accuracy: 0.9240\n",
      "Epoch 19/20\n",
      "22/22 [==============================] - 8s 368ms/step - loss: 0.1579 - accuracy: 0.9341 - val_loss: 0.1685 - val_accuracy: 0.9240\n",
      "Epoch 20/20\n",
      "22/22 [==============================] - 8s 371ms/step - loss: 0.1502 - accuracy: 0.9400 - val_loss: 0.1644 - val_accuracy: 0.9181\n"
     ]
    }
   ],
   "source": [
    "\"\"\"\n",
    "In our model we include two convolutional 2D layers, two\n",
    "max pooling layers, two dropout layers to avoid overfitting, \n",
    "a flatten layer, and finally two dense layers to match\n",
    "the number of classes in the output\n",
    "\"\"\"\n",
    "model1 = models.Sequential([\n",
    "    layers.Conv2D(100,(3,3), activation='relu', input_shape=data.shape[1:]),\n",
    "    layers.MaxPooling2D((2, 2)),\n",
    "    layers.Dropout(0.5),\n",
    "    layers.Conv2D(100,(3,3), activation='relu'),\n",
    "    layers.MaxPooling2D((2, 2)),\n",
    "    layers.Flatten(),\n",
    "    layers.Dropout(0.5),\n",
    "    layers.Dense(25, activation='relu'),\n",
    "    layers.Dense(2,activation='softmax')\n",
    "])\n",
    "model1.compile(optimizer='adam',\n",
    "              loss=tf.keras.losses.SparseCategoricalCrossentropy(from_logits=True),\n",
    "              metrics=['accuracy'])\n",
    "history = model1.fit(train_data,\n",
    "                     train_target, \n",
    "                     epochs=20,\n",
    "                     validation_split=0.2)"
   ]
  },
  {
   "cell_type": "code",
   "execution_count": 36,
   "metadata": {},
   "outputs": [
    {
     "data": {
      "text/plain": [
       "<matplotlib.legend.Legend at 0x7fb296df94c0>"
      ]
     },
     "execution_count": 36,
     "metadata": {},
     "output_type": "execute_result"
    },
    {
     "data": {
      "image/png": "[encoded data removed]",
      "text/plain": [
       "<Figure size 432x288 with 1 Axes>"
      ]
     },
     "metadata": {
      "needs_background": "light"
     },
     "output_type": "display_data"
    }
   ],
   "source": [
    "\"\"\"\n",
    "Our results proved to be pretty precise and there\n",
    "is no apparent sign of overfitting.\n",
    "\"\"\"\n",
    "plt.plot(history.history[\"accuracy\"], label = \"training\")\n",
    "plt.plot(history.history[\"val_accuracy\"], label = \"validation\")\n",
    "plt.gca().set(xlabel = \"epoch\", ylabel = \"accuracy\") # gca: get current axis \n",
    "plt.legend()"
   ]
  }
 ],
 "metadata": {
  "kernelspec": {
   "display_name": "Python [conda env:root] *",
   "language": "python",
   "name": "conda-root-py"
  },
  "language_info": {
   "codemirror_mode": {
    "name": "ipython",
    "version": 3
   },
   "file_extension": ".py",
   "mimetype": "text/x-python",
   "name": "python",
   "nbconvert_exporter": "python",
   "pygments_lexer": "ipython3",
   "version": "3.8.5"
  }
 },
 "nbformat": 4,
 "nbformat_minor": 4
}
